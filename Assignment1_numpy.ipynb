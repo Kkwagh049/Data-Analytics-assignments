{
 "cells": [
  {
   "cell_type": "code",
   "execution_count": 2,
   "metadata": {},
   "outputs": [],
   "source": [
    "import numpy as np"
   ]
  },
  {
   "cell_type": "code",
   "execution_count": 3,
   "metadata": {},
   "outputs": [
    {
     "data": {
      "text/plain": [
       "array([2.12199579e-314, 0.00000000e+000, 2.12199579e-314, 4.94065646e-324,\n",
       "       0.00000000e+000, 0.00000000e+000, 0.00000000e+000, 0.00000000e+000,\n",
       "       0.00000000e+000, 0.00000000e+000])"
      ]
     },
     "execution_count": 3,
     "metadata": {},
     "output_type": "execute_result"
    }
   ],
   "source": [
    "#1.Create a null vector of size 10\n",
    "null_vector =np.empty(10)\n",
    "null_vector"
   ]
  },
  {
   "cell_type": "code",
   "execution_count": 4,
   "metadata": {},
   "outputs": [
    {
     "name": "stdout",
     "output_type": "stream",
     "text": [
      "memory size of the array is 8\n"
     ]
    }
   ],
   "source": [
    "# How to find the memory size of an array\n",
    "a = [1,3,6,9,7]\n",
    "array = np.array(a)\n",
    "print(f\"memory size of the array is {array.itemsize}\")\n",
    "#print(len(array))"
   ]
  },
  {
   "cell_type": "code",
   "execution_count": 5,
   "metadata": {},
   "outputs": [
    {
     "data": {
      "text/plain": [
       "array([2.12199579e-314, 0.00000000e+000, 2.12199579e-314, 4.94065646e-324,\n",
       "       1.00000000e+000, 0.00000000e+000, 0.00000000e+000, 0.00000000e+000,\n",
       "       0.00000000e+000, 0.00000000e+000])"
      ]
     },
     "execution_count": 5,
     "metadata": {},
     "output_type": "execute_result"
    }
   ],
   "source": [
    "#Create a null vector of size 10 but the fifth value which is 1\n",
    "null_10 = np.empty(10)\n",
    "null_10[4] = 1\n",
    "null_10"
   ]
  },
  {
   "cell_type": "code",
   "execution_count": 6,
   "metadata": {},
   "outputs": [
    {
     "data": {
      "text/plain": [
       "array([15, 16, 17, 18, 19, 20, 21, 22, 23, 24, 25, 26, 27, 28, 29, 30, 31,\n",
       "       32, 33, 34, 35, 36, 37, 38, 39, 40, 41, 42, 43, 44, 45])"
      ]
     },
     "execution_count": 6,
     "metadata": {},
     "output_type": "execute_result"
    }
   ],
   "source": [
    "#Create a vector with values ranging from 15 to 45\n",
    "v = np.arange(15,46)\n",
    "v"
   ]
  },
  {
   "cell_type": "code",
   "execution_count": 7,
   "metadata": {},
   "outputs": [
    {
     "data": {
      "text/plain": [
       "array([5, 4, 3, 2, 1])"
      ]
     },
     "execution_count": 7,
     "metadata": {},
     "output_type": "execute_result"
    }
   ],
   "source": [
    "#Reverse a vector (The first element becomes last)\n",
    "reverse_vector = np.array([1,2,3,4,5])\n",
    "reverse_vector[::-1]"
   ]
  },
  {
   "cell_type": "code",
   "execution_count": 8,
   "metadata": {},
   "outputs": [
    {
     "name": "stdout",
     "output_type": "stream",
     "text": [
      "[84 21 28 39 63]\n",
      "[70  7 14 25 49]\n",
      "[11.          2.          3.          4.57142857  8.        ]\n"
     ]
    }
   ],
   "source": [
    "#Write a NumPy program to add, subtract, multiply, divide arguments element-wise 7\n",
    "arr = np.array([77,14,21,32,56])\n",
    "def arithmetic(arr):\n",
    "    print(np.add(arr,7))\n",
    "    print(np.subtract(arr,7))\n",
    "    print(np.divide(arr,7))\n",
    "arithmetic(arr)"
   ]
  },
  {
   "cell_type": "code",
   "execution_count": 9,
   "metadata": {},
   "outputs": [
    {
     "data": {
      "text/plain": [
       "array([8., 8., 8., 8., 8.])"
      ]
     },
     "execution_count": 9,
     "metadata": {},
     "output_type": "execute_result"
    }
   ],
   "source": [
    "#Write a NumPy program to round elements of the array to the nearest integer 8.\n",
    "arr = np.array([8.333,7.88,8.2,7.49,8.36])\n",
    "round_to_8 = np.absolute(8,arr)\n",
    "round_to_8"
   ]
  },
  {
   "cell_type": "code",
   "execution_count": 10,
   "metadata": {},
   "outputs": [
    {
     "name": "stdout",
     "output_type": "stream",
     "text": [
      "[ 4. 10.  2.  6. 11.]\n",
      "[ 3.  9.  1.  5. 10.]\n"
     ]
    }
   ],
   "source": [
    "#Write a NumPy program to get the floor and ceiling values of the elements of a NumPy array\n",
    "arr = np.array([3.436,9.45,1.36,5.36,10.3])\n",
    "print(np.ceil(arr))\n",
    "print(np.floor(arr))\n"
   ]
  },
  {
   "cell_type": "code",
   "execution_count": 11,
   "metadata": {},
   "outputs": [
    {
     "name": "stdout",
     "output_type": "stream",
     "text": [
      "30.0\n"
     ]
    }
   ],
   "source": [
    "#9. Write a NumPy program to calculate mean across dimensions, in a 2D NumPy array.\n",
    "mean = np.array([[10,20,30,40,50],[10,20,30,40,50]])\n",
    "print(np.mean(mean))"
   ]
  },
  {
   "cell_type": "code",
   "execution_count": 12,
   "metadata": {},
   "outputs": [],
   "source": [
    "#What is the use of all and any function in numpy?"
   ]
  },
  {
   "cell_type": "code",
   "execution_count": 13,
   "metadata": {},
   "outputs": [
    {
     "data": {
      "text/plain": [
       "array([[0, 1, 2],\n",
       "       [3, 4, 5],\n",
       "       [6, 7, 8]])"
      ]
     },
     "execution_count": 13,
     "metadata": {},
     "output_type": "execute_result"
    }
   ],
   "source": [
    " #Create a 3x3 matrix with values ranging from 0 to 8\n",
    "matrix_3x3 = np.array(np.arange(0,9)).reshape(3,3)\n",
    "matrix_3x3"
   ]
  },
  {
   "cell_type": "code",
   "execution_count": 14,
   "metadata": {},
   "outputs": [
    {
     "name": "stdout",
     "output_type": "stream",
     "text": [
      "metrix before reverse\n",
      "[[1 2 3]\n",
      " [4 5 6]\n",
      " [7 8 9]]\n",
      "reverse of column 0 = [7 4 1]\n",
      "reverse of column 1 = [8 5 2]\n",
      "reverse of column 2 = [9 6 3]\n"
     ]
    }
   ],
   "source": [
    "#How to reverse the columns of a 2D array?\n",
    "reverse_2d_array = np.array(np.arange(1,10)).reshape(3,3)\n",
    "print(f\"metrix before reverse\\n{reverse_2d_array}\")\n",
    "for i in range(3):\n",
    "    print(f\"reverse of column {i} = {reverse_2d_array[:,i][::-1]}\")"
   ]
  },
  {
   "cell_type": "code",
   "execution_count": 15,
   "metadata": {},
   "outputs": [
    {
     "name": "stdout",
     "output_type": "stream",
     "text": [
      "metrix before reverse\n",
      "[[6 7 8]\n",
      " [3 4 5]\n",
      " [0 1 2]]\n",
      "reverse of row 0 = [8 7 6]\n",
      "reverse of row 1 = [5 4 3]\n",
      "reverse of row 2 = [2 1 0]\n"
     ]
    }
   ],
   "source": [
    "#How to reverse the rows of a 2D array?\n",
    "_2d_array = np.array([6,7,8,3,4,5,0,1,2]).reshape(3,3)\n",
    "print(f\"metrix before reverse\\n{_2d_array}\")\n",
    "for i in range(3):\n",
    "    print(f\"reverse of row {i} = {_2d_array[i][::-1]}\")"
   ]
  },
  {
   "cell_type": "code",
   "execution_count": 16,
   "metadata": {},
   "outputs": [
    {
     "name": "stdout",
     "output_type": "stream",
     "text": [
      "0\n",
      "1\n",
      "4\n"
     ]
    }
   ],
   "source": [
    "#Find indices of non-zero elements from [1,2,0,0,4,0]\n",
    "non_zero_ind = np.array([1,2,0,0,4,0])\n",
    "for i in range(6):\n",
    "    if non_zero_ind[i] != 0 :\n",
    "        print(i)"
   ]
  },
  {
   "cell_type": "code",
   "execution_count": 17,
   "metadata": {},
   "outputs": [
    {
     "data": {
      "text/plain": [
       "UniqueInverseResult(values=array([1, 2, 3, 5, 6]), inverse_indices=array([[0, 1, 4],\n",
       "       [2, 3, 4]]))"
      ]
     },
     "execution_count": 17,
     "metadata": {},
     "output_type": "execute_result"
    }
   ],
   "source": [
    "#Write a NumPy program to compute the inverse of a given matrix\n",
    "arri = np.array(([1,2,6],[3,5,6]))\n",
    "np.unique_inverse(arri)"
   ]
  },
  {
   "cell_type": "code",
   "execution_count": 18,
   "metadata": {},
   "outputs": [
    {
     "data": {
      "text/plain": [
       "'k:\\\\Data_analytics_assignments'"
      ]
     },
     "execution_count": 18,
     "metadata": {},
     "output_type": "execute_result"
    }
   ],
   "source": [
    "pwd"
   ]
  },
  {
   "cell_type": "code",
   "execution_count": 19,
   "metadata": {},
   "outputs": [
    {
     "name": "stdout",
     "output_type": "stream",
     "text": [
      "mean of random vector is 0.49145898350728284\n"
     ]
    }
   ],
   "source": [
    "#18. Create a random vector of size 30 and find the mean value\n",
    "rand_vector = np.array(np.random.random([30]))\n",
    "print(f\"mean of random vector is {rand_vector.mean()}\")"
   ]
  },
  {
   "cell_type": "code",
   "execution_count": 20,
   "metadata": {},
   "outputs": [
    {
     "data": {
      "text/plain": [
       "array([ 1,  2,  3,  4,  5,  6,  7,  8,  9, 10, 11, 12, 13, 14, 15, 16, 17,\n",
       "       18, 19, 20, 21, 22, 23, 24, 25, 26, 27, 28, 29, 30])"
      ]
     },
     "execution_count": 20,
     "metadata": {},
     "output_type": "execute_result"
    }
   ],
   "source": [
    "#19. How to extract all numbers between a given range from a NumPy array?\n",
    "array = np.arange(1,31)\n",
    "array"
   ]
  },
  {
   "cell_type": "code",
   "execution_count": 21,
   "metadata": {},
   "outputs": [
    {
     "data": {
      "text/plain": [
       "array([[[0.12072512, 0.53708846, 0.07306618],\n",
       "        [0.00743677, 0.207481  , 0.43512059],\n",
       "        [0.90269539, 0.4511013 , 0.63404153]],\n",
       "\n",
       "       [[0.91920179, 0.41980307, 0.78433629],\n",
       "        [0.30133794, 0.38016335, 0.67465742],\n",
       "        [0.98621126, 0.49340144, 0.89869743]],\n",
       "\n",
       "       [[0.32381156, 0.32197259, 0.97970972],\n",
       "        [0.34248196, 0.29367824, 0.3341676 ],\n",
       "        [0.76988148, 0.29430268, 0.11158283]]])"
      ]
     },
     "execution_count": 21,
     "metadata": {},
     "output_type": "execute_result"
    }
   ],
   "source": [
    "#20.Create a 3x3x3 array with random values\n",
    "arr_3x3x3 = np.array(np.random.random([3,3,3]))\n",
    "arr_3x3x3"
   ]
  },
  {
   "cell_type": "markdown",
   "metadata": {},
   "source": []
  },
  {
   "cell_type": "code",
   "execution_count": 22,
   "metadata": {},
   "outputs": [
    {
     "name": "stdout",
     "output_type": "stream",
     "text": [
      "minimum in array is 0.008961240742738075\n",
      "maximum in array is 0.9999826753706449\n"
     ]
    }
   ],
   "source": [
    "#21.Create a 10x10 array with random values and find the minimum and maximum values\n",
    "arr_10x10 = np.array(np.random.random((10,10)))\n",
    "print(f\"minimum in array is {arr_10x10.min()}\")\n",
    "print(f\"maximum in array is {arr_10x10.max()}\")"
   ]
  },
  {
   "cell_type": "code",
   "execution_count": 23,
   "metadata": {},
   "outputs": [
    {
     "name": "stdout",
     "output_type": "stream",
     "text": [
      "array is\n",
      " [[1 1 1 1 1]\n",
      " [1 0 0 0 1]\n",
      " [1 0 0 0 1]\n",
      " [1 0 0 0 1]\n",
      " [1 0 0 0 1]\n",
      " [1 1 1 1 1]]\n"
     ]
    }
   ],
   "source": [
    "#22. Create a 2d array with 1 on the border and 0 inside\n",
    "arr = np.array([[1,1,1,1,1],[1,0,0,0,1],[1,0,0,0,1],[1,0,0,0,1],[1,0,0,0,1],[1,1,1,1,1]])\n",
    "print(f\"array is\\n {arr}\")"
   ]
  },
  {
   "cell_type": "code",
   "execution_count": 24,
   "metadata": {},
   "outputs": [
    {
     "data": {
      "text/plain": [
       "array([[0, 0, 0, 0, 0],\n",
       "       [0, 0, 0, 0, 0],\n",
       "       [0, 0, 0, 0, 0],\n",
       "       [0, 0, 0, 0, 0],\n",
       "       [1, 2, 3, 4, 0]])"
      ]
     },
     "execution_count": 24,
     "metadata": {},
     "output_type": "execute_result"
    }
   ],
   "source": [
    "#23.Create a 5x5 matrix with values 1,2,3,4 just below the diagonal\n",
    "matrix_5x5 = np.array([[0,0,0,0,0],[0,0,0,0,0],[0,0,0,0,0],[0,0,0,0,0],[1,2,3,4,0]\n",
    "])\n",
    "matrix_5x5"
   ]
  },
  {
   "cell_type": "code",
   "execution_count": 25,
   "metadata": {},
   "outputs": [
    {
     "data": {
      "text/plain": [
       "array([[1., 0., 0.],\n",
       "       [0., 1., 0.],\n",
       "       [0., 0., 1.]])"
      ]
     },
     "execution_count": 25,
     "metadata": {},
     "output_type": "execute_result"
    }
   ],
   "source": [
    "#24.Create a 3x3 identity matrix\n",
    "identity = np.eye(3,3)\n",
    "identity"
   ]
  },
  {
   "cell_type": "code",
   "execution_count": 26,
   "metadata": {},
   "outputs": [
    {
     "data": {
      "text/plain": [
       "array([[0, 1, 0, 1, 0, 1, 0, 1],\n",
       "       [1, 0, 1, 0, 1, 0, 1, 0],\n",
       "       [0, 1, 0, 1, 0, 1, 0, 1],\n",
       "       [1, 0, 1, 0, 1, 0, 1, 0],\n",
       "       [0, 1, 0, 1, 0, 1, 0, 1],\n",
       "       [1, 0, 1, 0, 1, 0, 1, 0],\n",
       "       [0, 1, 0, 1, 0, 1, 0, 1],\n",
       "       [1, 0, 1, 0, 1, 0, 1, 0]])"
      ]
     },
     "execution_count": 26,
     "metadata": {},
     "output_type": "execute_result"
    }
   ],
   "source": [
    "#Create a 8x8 matrix and fill it with a checkerboard pattern\n",
    "'''[[0 1 0 1 0 1 0 1]\n",
    "[1 0 1 0 1 0 1 0]\n",
    "[0 1 0 1 0 1 0 1]\n",
    "[1 0 1 0 1 0 1 0]\n",
    "[0 1 0 1 0 1 0 1]\n",
    "[1 0 1 0 1 0 1 0]\n",
    "[0 1 0 1 0 1 0 1]\n",
    "[1 0 1 0 1 0 1 0]]'''\n",
    "matrix_8x8 = np.array([[0,1,0,1,0,1,0,1,],[1,0,1,0,1,0,1,0]]*4)\n",
    "matrix_8x8"
   ]
  },
  {
   "cell_type": "code",
   "execution_count": 27,
   "metadata": {},
   "outputs": [
    {
     "data": {
      "text/plain": [
       "array([1, 2, 3, 4, 5])"
      ]
     },
     "execution_count": 27,
     "metadata": {},
     "output_type": "execute_result"
    }
   ],
   "source": [
    "#26.Multiply a 5x3 matrix by a 3x2 matrix (real matrix product)\n",
    "arr_5x3 = np.array([1,2,3,4,5])\n",
    "arr_3x2 = np.array([3,6,9,])\n",
    "arr_5x3"
   ]
  },
  {
   "cell_type": "code",
   "execution_count": 28,
   "metadata": {},
   "outputs": [],
   "source": [
    "#28. How to round away from zero a float array?\n"
   ]
  },
  {
   "cell_type": "code",
   "execution_count": 29,
   "metadata": {},
   "outputs": [
    {
     "data": {
      "text/plain": [
       "False"
      ]
     },
     "execution_count": 29,
     "metadata": {},
     "output_type": "execute_result"
    }
   ],
   "source": [
    "#29.How to find common values between the two arrays?\n",
    "arr_one = np.array([1,9,7,6,4,5,6,12])\n",
    "arr_two = np.array([1,6,8,4,5,3,12,10])\n",
    "for i in arr_one:\n",
    "    if i in arr_two:\n",
    "        print(i)"
   ]
  },
  {
   "cell_type": "code",
   "execution_count": 37,
   "metadata": {},
   "outputs": [
    {
     "data": {
      "text/plain": [
       "array([0.03969156, 0.50518954, 0.96174105, 0.40647692, 0.88750755,\n",
       "       0.5242036 , 0.06544665, 0.41377071, 0.96823273, 0.26385573])"
      ]
     },
     "execution_count": 37,
     "metadata": {},
     "output_type": "execute_result"
    }
   ],
   "source": [
    "#30.Create a vector of size 10 with values ranging from 0 to 1, both excluded\n",
    "vector = np.array(np.random.random(10))\n",
    "vector"
   ]
  },
  {
   "cell_type": "code",
   "execution_count": 102,
   "metadata": {},
   "outputs": [
    {
     "name": "stdout",
     "output_type": "stream",
     "text": [
      "[0.38763132 0.06122096 0.66356118 0.86645771 0.84063336 0.79533671\n",
      " 0.88002153 0.13126109 0.79159713 0.70796294]\n",
      "Vector after sort [0.06122096 0.13126109 0.38763132 0.66356118 0.70796294 0.79159713\n",
      " 0.79533671 0.84063336 0.86645771 0.88002153]\n"
     ]
    }
   ],
   "source": [
    "#31.Create a random vector of size 10 and sort it\n",
    "rand_vector = np.array(np.random.random(10))\n",
    "print(rand_vector)\n",
    "print(f\"Vector after sort {np.sort(rand_vector)}\")"
   ]
  },
  {
   "cell_type": "code",
   "execution_count": 115,
   "metadata": {},
   "outputs": [
    {
     "name": "stdout",
     "output_type": "stream",
     "text": [
      "metrix after adding 0 t0 4\n",
      "[[0. 1. 2. 3. 4.]\n",
      " [0. 1. 2. 3. 4.]\n",
      " [0. 1. 2. 3. 4.]\n",
      " [0. 1. 2. 3. 4.]\n",
      " [0. 1. 2. 3. 4.]]\n"
     ]
    }
   ],
   "source": [
    "#32. Create a 5x5 matrix with row values ranging from 0 to 4\n",
    "matrix_5x5 = np.zeros((5,5))\n",
    "matrix_5x5\n",
    "np.arange(5)\n",
    "matrix_5x5 += np.arange(5)\n",
    "print(f\"metrix after adding 0 to 4\\n{matrix_5x5}\")"
   ]
  },
  {
   "cell_type": "code",
   "execution_count": 172,
   "metadata": {},
   "outputs": [
    {
     "name": "stdout",
     "output_type": "stream",
     "text": [
      "[1 0 0 0 0 1]\n",
      "[1 0 0 0 0 1]\n",
      "equal\n"
     ]
    }
   ],
   "source": [
    "#33.Consider two random arrays A and B, check if they are equal\n",
    "a = np.array(np.random.randint(0,2,6))\n",
    "b = np.array(np.random.randint(0,2,6))\n",
    "print(a)\n",
    "print(b)\n",
    "if np.allclose(a,b):\n",
    "    print(\"equal\")\n",
    "else:\n",
    "    print(\"Not equal\")"
   ]
  },
  {
   "cell_type": "code",
   "execution_count": 190,
   "metadata": {},
   "outputs": [
    {
     "name": "stdout",
     "output_type": "stream",
     "text": [
      "[0.13378845 0.65703989 0.49752857 0.7092002  0.6365049  0.58940388\n",
      " 0.44706226 0.48672826 0.5121007  0.12101883]\n",
      "0.7092001991666832\n"
     ]
    },
    {
     "data": {
      "text/plain": [
       "array([0.13378845, 0.65703989, 0.49752857, 0.        , 0.6365049 ,\n",
       "       0.58940388, 0.44706226, 0.48672826, 0.5121007 , 0.12101883])"
      ]
     },
     "execution_count": 190,
     "metadata": {},
     "output_type": "execute_result"
    }
   ],
   "source": [
    "#34.Create a random vector of size 10 and replace the maximum value by 0\n",
    "np_random_vector = np.array(np.random.random(10))\n",
    "print(np_random_vector)\n",
    "max = np.max(np_random_vector)\n",
    "print(max)\n",
    "np_random_vector[np_random_vector.argmax()] = 0\n",
    "np_random_vector"
   ]
  },
  {
   "cell_type": "code",
   "execution_count": 71,
   "metadata": {},
   "outputs": [
    {
     "name": "stdout",
     "output_type": "stream",
     "text": [
      "Indices [0 3 4 5 8]\n"
     ]
    }
   ],
   "source": [
    "#35.How to find out multiple indices of an item?\n",
    "arr = np.array([1,0,2,1,1,1,10,3,1])\n",
    "indices = np.where(arr == 1)[0]\n",
    "print(\"Indices\",indices)"
   ]
  },
  {
   "cell_type": "code",
   "execution_count": null,
   "metadata": {},
   "outputs": [],
   "source": [
    "#36. What is the equivalent of enumerate for NumPy arrays?\n"
   ]
  },
  {
   "cell_type": "code",
   "execution_count": 107,
   "metadata": {},
   "outputs": [
    {
     "name": "stdout",
     "output_type": "stream",
     "text": [
      "[[ 1  2  3  4  5]\n",
      " [ 5  9  7  6 10]\n",
      " [ 7  4 40  5  8]]\n",
      "[2 4 9]\n"
     ]
    }
   ],
   "source": [
    "#37. How to sort an array by the nth column?\n",
    "array = np.array([[1,2,3,4,5],[5,9,7,6,10],[7,4,40,5,8]])\n",
    "print(array)\n",
    "c_sort = array[:,1]\n",
    "c_sort.sort()\n",
    "print(c_sort)"
   ]
  },
  {
   "cell_type": "code",
   "execution_count": null,
   "metadata": {},
   "outputs": [],
   "source": [
    "#Swap to rows of an array\n"
   ]
  },
  {
   "cell_type": "code",
   "execution_count": 110,
   "metadata": {},
   "outputs": [
    {
     "name": "stdout",
     "output_type": "stream",
     "text": [
      "Mean of array the array is 5.4\n"
     ]
    }
   ],
   "source": [
    "#39 How to compute the mean of a NumPy array?\n",
    "mean_array = np.array([5,1,6,7,8])\n",
    "print(\"Mean of array the array is\",np.mean(mean_array))"
   ]
  },
  {
   "cell_type": "code",
   "execution_count": 113,
   "metadata": {},
   "outputs": [
    {
     "name": "stdout",
     "output_type": "stream",
     "text": [
      "Median of the array is  3.0\n"
     ]
    }
   ],
   "source": [
    "#40.How to compute the median of a NumPy array\n",
    "med_array = np.array([1,2,3,4,5])\n",
    "print(\"Median of the array is \",np.median(med_array))"
   ]
  },
  {
   "cell_type": "code",
   "execution_count": 115,
   "metadata": {},
   "outputs": [
    {
     "name": "stdout",
     "output_type": "stream",
     "text": [
      "Standard deviation is  12.365947867699695\n"
     ]
    }
   ],
   "source": [
    "#41.How to compute the standard deviation of a NumPy array?\n",
    "std_deviation = np.array([1,2,3,4,5,36])\n",
    "print(\"Standard deviation is \",np.std(std_deviation))"
   ]
  },
  {
   "cell_type": "code",
   "execution_count": 120,
   "metadata": {},
   "outputs": [],
   "source": [
    "#42. How to compute the mode of a NumPy array?\n"
   ]
  },
  {
   "cell_type": "code",
   "execution_count": 131,
   "metadata": {},
   "outputs": [
    {
     "data": {
      "text/plain": [
       "array([1.37 , 9.215, 7.356])"
      ]
     },
     "execution_count": 131,
     "metadata": {},
     "output_type": "execute_result"
    }
   ],
   "source": [
    "#43.How to print only 3 decimal places in a python NumPy array?\n",
    "arr_round = np.array([1.3695,9.21456,7.3563])\n",
    "np.round(arr_round,3)\n"
   ]
  },
  {
   "cell_type": "code",
   "execution_count": 135,
   "metadata": {},
   "outputs": [
    {
     "name": "stdout",
     "output_type": "stream",
     "text": [
      "[[1 6 9 7 4]\n",
      " [4 3 6 5 9]\n",
      " [1 4 2 7 0]]\n"
     ]
    },
    {
     "data": {
      "text/plain": [
       "array([[ -2,  -7, -10,  -8,  -5],\n",
       "       [ -5,  -4,  -7,  -6, -10],\n",
       "       [ -2,  -5,  -3,  -8,  -1]])"
      ]
     },
     "execution_count": 135,
     "metadata": {},
     "output_type": "execute_result"
    }
   ],
   "source": [
    "#44.Write a NumPy program to compute the inverse of a given matrix\n",
    "arr_inv = np.array([[1,6,9,7,4],[4,3,6,5,9],[1,4,2,7,0]])\n",
    "print(arr_inv)\n",
    "np.invert(arr_inv)"
   ]
  },
  {
   "cell_type": "code",
   "execution_count": null,
   "metadata": {},
   "outputs": [
    {
     "ename": "ValueError",
     "evalue": "cannot reshape array of size 6 into shape (3,3)",
     "output_type": "error",
     "traceback": [
      "\u001b[1;31m---------------------------------------------------------------------------\u001b[0m",
      "\u001b[1;31mValueError\u001b[0m                                Traceback (most recent call last)",
      "Cell \u001b[1;32mIn[156], line 2\u001b[0m\n\u001b[0;32m      1\u001b[0m \u001b[38;5;66;03m# 46. How to find the most frequent value in a NumPy array?\u001b[39;00m\n\u001b[1;32m----> 2\u001b[0m a \u001b[38;5;241m=\u001b[39m \u001b[43mnp\u001b[49m\u001b[38;5;241;43m.\u001b[39;49m\u001b[43marray\u001b[49m\u001b[43m(\u001b[49m\u001b[43m[\u001b[49m\u001b[43m[\u001b[49m\u001b[38;5;241;43m1\u001b[39;49m\u001b[43m,\u001b[49m\u001b[38;5;241;43m3\u001b[39;49m\u001b[43m,\u001b[49m\u001b[38;5;241;43m4\u001b[39;49m\u001b[43m,\u001b[49m\u001b[38;5;241;43m7\u001b[39;49m\u001b[43m,\u001b[49m\u001b[38;5;241;43m9\u001b[39;49m\u001b[43m,\u001b[49m\u001b[38;5;241;43m6\u001b[39;49m\u001b[43m]\u001b[49m\u001b[43m]\u001b[49m\u001b[43m)\u001b[49m\u001b[38;5;241;43m.\u001b[39;49m\u001b[43mreshape\u001b[49m\u001b[43m(\u001b[49m\u001b[38;5;241;43m3\u001b[39;49m\u001b[43m,\u001b[49m\u001b[38;5;241;43m3\u001b[39;49m\u001b[43m)\u001b[49m\n",
      "\u001b[1;31mValueError\u001b[0m: cannot reshape array of size 6 into shape (3,3)"
     ]
    }
   ],
   "source": [
    "# 46. How to find the most frequent value in a NumPy array?\n"
   ]
  },
  {
   "cell_type": "code",
   "execution_count": 179,
   "metadata": {},
   "outputs": [
    {
     "data": {
      "text/plain": [
       "array([[[1, 6, 1, 3, 4, 5, 9, 7, 6]]])"
      ]
     },
     "execution_count": 179,
     "metadata": {},
     "output_type": "execute_result"
    }
   ],
   "source": [
    "#47 How to convert 1D array to 3D array?\n",
    "a = np.array([1,6,1,3,4,5,9,7,6],ndmin = 3)\n",
    "a"
   ]
  },
  {
   "cell_type": "code",
   "execution_count": 176,
   "metadata": {},
   "outputs": [
    {
     "data": {
      "text/plain": [
       "array([[[[ 1,  6,  7,  8, 10],\n",
       "         [ 1,  6,  9,  7,  4]]]])"
      ]
     },
     "execution_count": 176,
     "metadata": {},
     "output_type": "execute_result"
    }
   ],
   "source": [
    "#48. How to convert 4D array to 2D array?\n",
    "array_2d = np.array([[1,6,7,8,10],[1,6,9,7,4]],ndmin=4)\n",
    "array_2d"
   ]
  },
  {
   "cell_type": "code",
   "execution_count": 182,
   "metadata": {},
   "outputs": [
    {
     "data": {
      "text/plain": [
       "numpy.ndarray"
      ]
     },
     "execution_count": 182,
     "metadata": {},
     "output_type": "execute_result"
    }
   ],
   "source": [
    "#49. Create a Numpy array filled with all zeros\n",
    "zeros = np.zeros((3,3))\n",
    "zeros"
   ]
  },
  {
   "cell_type": "code",
   "execution_count": 186,
   "metadata": {},
   "outputs": [
    {
     "ename": "AttributeError",
     "evalue": "module 'numpy' has no attribute 'row'",
     "output_type": "error",
     "traceback": [
      "\u001b[1;31m---------------------------------------------------------------------------\u001b[0m",
      "\u001b[1;31mAttributeError\u001b[0m                            Traceback (most recent call last)",
      "Cell \u001b[1;32mIn[186], line 3\u001b[0m\n\u001b[0;32m      1\u001b[0m \u001b[38;5;66;03m#50.Find the number of rows and columns of a given matrix using NumPy\u001b[39;00m\n\u001b[0;32m      2\u001b[0m array \u001b[38;5;241m=\u001b[39m np\u001b[38;5;241m.\u001b[39marray([[\u001b[38;5;241m1\u001b[39m,\u001b[38;5;241m0\u001b[39m,\u001b[38;5;241m7\u001b[39m,\u001b[38;5;241m9\u001b[39m,\u001b[38;5;241m4\u001b[39m],[\u001b[38;5;241m10\u001b[39m,\u001b[38;5;241m6\u001b[39m,\u001b[38;5;241m3\u001b[39m,\u001b[38;5;241m7\u001b[39m,\u001b[38;5;241m8\u001b[39m]])\n\u001b[1;32m----> 3\u001b[0m \u001b[38;5;28mprint\u001b[39m(\u001b[43mnp\u001b[49m\u001b[38;5;241;43m.\u001b[39;49m\u001b[43mrow\u001b[49m(array))\n\u001b[0;32m      4\u001b[0m \u001b[38;5;28mprint\u001b[39m(np\u001b[38;5;241m.\u001b[39mcolumn(array))\n",
      "File \u001b[1;32mc:\\Users\\hp\\AppData\\Local\\Programs\\Python\\Python311\\Lib\\site-packages\\numpy\\__init__.py:427\u001b[0m, in \u001b[0;36m__getattr__\u001b[1;34m(attr)\u001b[0m\n\u001b[0;32m    424\u001b[0m     \u001b[38;5;28;01mimport\u001b[39;00m \u001b[38;5;21;01mnumpy\u001b[39;00m\u001b[38;5;21;01m.\u001b[39;00m\u001b[38;5;21;01mchar\u001b[39;00m \u001b[38;5;28;01mas\u001b[39;00m \u001b[38;5;21;01mchar\u001b[39;00m\n\u001b[0;32m    425\u001b[0m     \u001b[38;5;28;01mreturn\u001b[39;00m char\u001b[38;5;241m.\u001b[39mchararray\n\u001b[1;32m--> 427\u001b[0m \u001b[38;5;28;01mraise\u001b[39;00m \u001b[38;5;167;01mAttributeError\u001b[39;00m(\u001b[38;5;124m\"\u001b[39m\u001b[38;5;124mmodule \u001b[39m\u001b[38;5;132;01m{!r}\u001b[39;00m\u001b[38;5;124m has no attribute \u001b[39m\u001b[38;5;124m\"\u001b[39m\n\u001b[0;32m    428\u001b[0m                      \u001b[38;5;124m\"\u001b[39m\u001b[38;5;132;01m{!r}\u001b[39;00m\u001b[38;5;124m\"\u001b[39m\u001b[38;5;241m.\u001b[39mformat(\u001b[38;5;18m__name__\u001b[39m, attr))\n",
      "\u001b[1;31mAttributeError\u001b[0m: module 'numpy' has no attribute 'row'"
     ]
    }
   ],
   "source": [
    "#50.Find the number of rows and columns of a given matrix using NumPy\n",
    "#array = np.array([[1,0,7,9,4],[10,6,3,7,8]])"
   ]
  },
  {
   "cell_type": "code",
   "execution_count": null,
   "metadata": {},
   "outputs": [],
   "source": []
  }
 ],
 "metadata": {
  "kernelspec": {
   "display_name": "Python 3",
   "language": "python",
   "name": "python3"
  },
  "language_info": {
   "codemirror_mode": {
    "name": "ipython",
    "version": 3
   },
   "file_extension": ".py",
   "mimetype": "text/x-python",
   "name": "python",
   "nbconvert_exporter": "python",
   "pygments_lexer": "ipython3",
   "version": "3.11.4"
  }
 },
 "nbformat": 4,
 "nbformat_minor": 2
}
